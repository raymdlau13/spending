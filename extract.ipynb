{
 "cells": [
  {
   "cell_type": "code",
   "execution_count": null,
   "id": "ba6e145b",
   "metadata": {},
   "outputs": [],
   "source": [
    "from pypdf import PdfReader\n",
    "import re\n",
    "import os\n",
    "import glob\n",
    "\n",
    "def extract_text_from_pdf(pdf_path):\n",
    "    with open(pdf_path, 'rb') as pdf_file:\n",
    "        reader = PdfReader(pdf_file)\n",
    "        text = \"\"\n",
    "        for page in reader.pages:\n",
    "            text += page.extract_text()\n",
    "        return text\n",
    "\n",
    "def extract_activities_from_text(text, year, month):\n",
    "    # pattern = f\"^(\\d{{2}}\\/\\d{{2}})\\s+(.*?)\\s+((-?\\d{{1,3}}(,\\d{{3}})*)*\\.\\d{{2}})\"\n",
    "    pattern = r\"^(\\d{2}\\/\\d{2})\\s+(.*?)\\s+((-?\\d{1,3}(,\\d{3})*)*\\.\\d{2})\"\n",
    "\n",
    "    lines = []\n",
    "    for line in text.split(\"\\n\"):\n",
    "        match = re.match(pattern,line) \n",
    "        if match:\n",
    "            if match.group(1)[:2] == \"12\" and month == \"01\":\n",
    "                this_year = str(int(year) - 1)\n",
    "            else:\n",
    "                this_year = year\n",
    "            lines.append(f\"{match.group(1)}/{this_year},{match.group(2)},{match.group(3).replace(',','')}\")\n",
    "    return \"\\n\".join(lines)\n",
    "\n",
    "# year = os.path.basename(pdf_path).split(\"-\")[0][:4] #.split(\".\")[0]\n",
    "# text_data = extract_text_from_pdf(pdf_path)\n",
    "# activities = extract_activities_from_text(text_data, year)\n",
    "\n",
    "directory_path = \"./data\"\n",
    "pdf_files = glob.glob(os.path.join(directory_path, \"*.pdf\"))\n",
    "activities = \"Transaction date,Description,Amount\"\n",
    "for pdf in pdf_files:\n",
    "    year = os.path.basename(pdf).split(\"-\")[0][:4]\n",
    "    month = os.path.basename(pdf).split(\"-\")[0][4:6]\n",
    "    text_data = extract_text_from_pdf(pdf)\n",
    "    activities += \"\\n\" + extract_activities_from_text(text_data, year, month)\n",
    "\n"
   ]
  },
  {
   "cell_type": "code",
   "execution_count": null,
   "id": "cf4056cc",
   "metadata": {},
   "outputs": [],
   "source": [
    "with open(\"Chase-2018010-20231231.csv\", \"w\") as file:\n",
    "    file.write(activities)\n"
   ]
  }
 ],
 "metadata": {
  "kernelspec": {
   "display_name": "spending_venv",
   "language": "python",
   "name": "python3"
  },
  "language_info": {
   "codemirror_mode": {
    "name": "ipython",
    "version": 3
   },
   "file_extension": ".py",
   "mimetype": "text/x-python",
   "name": "python",
   "nbconvert_exporter": "python",
   "pygments_lexer": "ipython3",
   "version": "3.12.3"
  }
 },
 "nbformat": 4,
 "nbformat_minor": 5
}
