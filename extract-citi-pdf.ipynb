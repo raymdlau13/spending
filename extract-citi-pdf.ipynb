{
 "cells": [
  {
   "cell_type": "code",
   "execution_count": null,
   "id": "0994391d",
   "metadata": {},
   "outputs": [],
   "source": [
    "from pypdf import PdfReader\n",
    "import re\n",
    "import os\n",
    "import glob\n",
    "\n",
    "def extract_text_from_pdf(pdf_path):\n",
    "    with open(pdf_path, 'rb') as pdf_file:\n",
    "        reader = PdfReader(pdf_file)\n",
    "        text = \"\"\n",
    "        for page in reader.pages:\n",
    "            text += page.extract_text()\n",
    "        return text\n",
    "\n",
    "def extract_activities_from_text(text, year, month):\n",
    "    pattern = r\"^(\\d{2}\\/\\d{2})\\s+(.*?)\\s+((-?\\d{1,3}(,\\d{3})*)*\\.\\d{2})\"\n",
    "\n",
    "    lines = []\n",
    "    for line in text.split(\"\\n\"):\n",
    "        match = re.match(pattern,line) \n",
    "        if match:\n",
    "            if match.group(1)[:2] == \"12\" and month == \"01\":\n",
    "                this_year = str(int(year) - 1)\n",
    "            else:\n",
    "                this_year = year\n",
    "            lines.append(f\"{match.group(1)}/{this_year},{match.group(2)},{match.group(3).replace(',','')}\")\n",
    "    return \"\\n\".join(lines)\n",
    "\n",
    "directory_path = \"/mnt/c/users/lauki/OneDrive - Blackstone/Downloads/citi\"\n",
    "pdf_files = glob.glob(os.path.join(directory_path, \"*.pdf\"))\n",
    "activities = \"Transaction date,Description,Amount\"\n",
    "for pdf in pdf_files:\n",
    "    year = os.path.basename(pdf).split(\"-\")[0][:4]\n",
    "    month = os.path.basename(pdf).split(\"-\")[0][4:6]\n",
    "    text_data = extract_text_from_pdf(pdf)\n",
    "    # activities += \"\\n\" + extract_activities_from_text(text_data, year, month)\n",
    "    activities += text_data\n",
    "\n",
    "with open(\"citi-pdf.csv\", \"w\") as file:\n",
    "    file.write(activities)\n",
    "\n"
   ]
  },
  {
   "cell_type": "code",
   "execution_count": null,
   "id": "c28aa3c4",
   "metadata": {},
   "outputs": [],
   "source": [
    "import pdfplumber\n",
    "import re\n",
    "import os\n",
    "import glob\n",
    "\n",
    "directory_path = \"/mnt/c/users/lauki/OneDrive - Blackstone/Downloads/citi\"\n",
    "pdf_files = glob.glob(os.path.join(directory_path, \"*.pdf\"))\n",
    "activities = []\n",
    "for pdf_file in pdf_files:\n",
    "    month = os.path.basename(pdf_file).split(\" \")[0]\n",
    "    with pdfplumber.open(pdf_file) as pdf:\n",
    "        for page in pdf.pages:\n",
    "            text = page.extract_text()\n",
    "            activities += re.findall(r\"(\\d{2}\\/\\d{2})\\s+\\d{2}\\/\\d{2}\\s+(.*?)\\s+-?\\$(\\d{1,3}(?:,\\d{3})*(?:\\.\\d{2})?|\\d+(?:\\.\\d{2})?)\", text)\n",
    "\n",
    "\n",
    "# match = re.findall(r\"\\s+-?\\$(\\d{1,3}(?:,\\d{3})*(?:\\.\\d{2})?|\\d+(?:\\.\\d{2})?)\", text)\n",
    "\n",
    "print(activities)"
   ]
  },
  {
   "cell_type": "code",
   "execution_count": null,
   "id": "a183fdc1",
   "metadata": {},
   "outputs": [],
   "source": [
    "import pdfplumber\n",
    "import re\n",
    "import os\n",
    "import glob\n",
    "\n",
    "directory_path = \"/mnt/c/users/lauki/OneDrive - Blackstone/Downloads/citi\"\n",
    "pdf_files = glob.glob(os.path.join(directory_path, \"*.pdf\"))\n",
    "activities = []\n",
    "for pdf_file in pdf_files:\n",
    "    month, year = os.path.basename(pdf_file).split(\".\")[0].split(\" \")\n",
    "    this_activites = []\n",
    "    with pdfplumber.open(pdf_file) as pdf:\n",
    "        for page in pdf.pages:\n",
    "            text = page.extract_text()\n",
    "            this_activites += re.findall(r\"(\\d{2}\\/\\d{2})\\s+\\d{2}\\/\\d{2}\\s+(.*?)\\s+-?\\$(\\d{1,3}(?:,\\d{3})*(?:\\.\\d{2})?|\\d+(?:\\.\\d{2})?)\", text)\n",
    "    for i, activity in enumerate(this_activites):\n",
    "        txn_date = activity[0] + \"/\" + (str(int(year)-1) if activity[0][:2] == \"12\" and month == \"01\" else year)\n",
    "        this_activites[i] = (txn_date, activity[1], activity[2])  # Update the tuple at index i\n",
    "    activities += this_activites\n"
   ]
  },
  {
   "cell_type": "code",
   "execution_count": null,
   "id": "50b49ede",
   "metadata": {},
   "outputs": [],
   "source": [
    "month, year = os.path.basename(pdf_file).split(\".\")[0].split(\" \")\n",
    "\n",
    "print(f\"{month}, {year}\")"
   ]
  },
  {
   "cell_type": "code",
   "execution_count": null,
   "id": "c6284940",
   "metadata": {},
   "outputs": [],
   "source": [
    "import pandas as pd\n",
    "\n",
    "df = pd.DataFrame(activities)\n",
    "\n",
    "df.dtypes\n",
    "\n",
    "df.to_csv(\"citi-pdf.csv\", index=False)\n"
   ]
  }
 ],
 "metadata": {
  "kernelspec": {
   "display_name": "spending_venv",
   "language": "python",
   "name": "python3"
  },
  "language_info": {
   "codemirror_mode": {
    "name": "ipython",
    "version": 3
   },
   "file_extension": ".py",
   "mimetype": "text/x-python",
   "name": "python",
   "nbconvert_exporter": "python",
   "pygments_lexer": "ipython3",
   "version": "3.12.3"
  }
 },
 "nbformat": 4,
 "nbformat_minor": 5
}
